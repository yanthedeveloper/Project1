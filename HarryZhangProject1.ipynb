{
 "cells": [
  {
   "cell_type": "code",
   "execution_count": 27,
   "metadata": {},
   "outputs": [],
   "source": [
    "import json\n",
    "import pandas as pd\n",
    "from pprint import pprint\n",
    "import numpy as np\n",
    "import matplotlib.pyplot as pyplot\n",
    "import http.client\n",
    "#from config.py import api_key"
   ]
  },
  {
   "cell_type": "code",
   "execution_count": 9,
   "metadata": {},
   "outputs": [
    {
     "name": "stdout",
     "output_type": "stream",
     "text": [
      "{'response': {'inputparameter': {'AreaId': 'CO13121', 'package': 'full', 'resource': 'area', 'service': 'Community'}, 'result': {'package': {'descr': '', 'item': [{'age00_04': '78537', 'age05_09': '70058', 'age10_14': '65822', 'age15_19': '76806', 'age20_24': '68520', 'age25_29': '62416', 'age30_34': '72856', 'age35_39': '77732', 'age40_44': '75049', 'age45_49': '73196', 'age50_54': '70174', 'age55_59': '64872', 'age60_64': '55255', 'age65_69': '44838', 'age70_74': '31746', 'age75_79': '19647', 'age80_84': '11952', 'ageavepy_10': '39.00', 'ageavepy_5': '38.00', 'agegt85': '9370', 'aimcy25_44': '65226', 'aimcy45_64': '75134', 'aimcygt_65': '43916', 'aimcylt_25': '23965', 'airport': 'Hartsfield - Jackson Atlanta International', 'airportdist': '14', 'airx': '93', 'ancestamer': '52589', 'ancestamind': '1760', 'ancestasian': '60821', 'ancesteuro': '228132', 'ancesthawai': '330', 'ancesthisp': '80019', 'ancestother': '495469', 'ancestunclassified': '109726', 'avg_prop_tax': '2928', 'avg_prop_tax_year': '2017', 'avg_prop_tax_year_count': '277034', 'avgsaleprice': '363087', 'carbmono': '113', 'city500_closest_name': 'Nashville-Davidson metropolitan government (balanc', 'cocrmcyasst': '264', 'cocrmcyburg': '184', 'cocrmcylarc': '185', 'cocrmcymurd': '317', 'cocrmcymveh': '275', 'cocrmcyperc': '258', 'cocrmcyproc': '215', 'cocrmcyrape': '147', 'cocrmcyrobb': '351', 'cocrmcytotc': '253', 'county3': '121', 'county5': '13121', 'countyname': 'Fulton County', 'crmcyasst': '264', 'crmcyburg': '184', 'crmcylarc': '185', 'crmcymurd': '317', 'crmcymveh': '275', 'crmcyperc': '258', 'crmcyproc': '215', 'crmcyrape': '147', 'crmcyrobb': '351', 'crmcytotc': '253', 'daypop': '1455943', 'dwlowned': '228916', 'dwlrent': '196254', 'dwltotal': '489198', 'dwlvacnt': '64028', 'eduagelt9_00': '27097', 'eduagelt9_90': '32938', 'eduassoc': '37911', 'eduassoc_00': '24821', 'edubach': '201805', 'edubach_00': '140677', 'educoll_00': '243236', 'educoll_90': '151329', 'edudegree_00': '77738', 'edugrad': '130145', 'eduhsch': '119510', 'eduhsch_00': '102249', 'eduhsch_90': '102383', 'eduindex': '4', 'edultgr9': '21356', 'eduscoll': '119558', 'eduscoll_00': '97898', 'eduscoll_90': '79054', 'edushsch': '38818', 'edutotalpop': '669103', 'edutotalpop_00': '527741', 'edutotalpop_90': '415198', 'empadmin': '1220', 'empagric': '648', 'emparts': '30891', 'empconst': '23232', 'empedu': '23732', 'empexec': '5126', 'empfire': '51200', 'empfood': '63032', 'emphcsp': '157861', 'emphome': '38448', 'empinfo': '50016', 'empmanuf': '37162', 'empmil': '3539', 'empmil_00': '679', 'empmine': '541', 'empprof': '101850', 'emppubad': '53954', 'empre': '33197', 'emprtrad': '81397', 'empsrv': '41203', 'emptotal': '825144', 'emptrans': '13597', 'empuncla': '2897', 'empunemp': '30077', 'emputl': '1876', 'empwtrad': '6441', 'enrollcoll_00': '55083', 'enrollcoll_90': '51415', 'enrollelem_00': '91469', 'enrollelem_90': '102383', 'enrollhsch_00': '42140', 'enrollprek_00': '30971', 'enrollprek_90': '12590', 'enrolltotal_00': '219663', 'enrolltotal_90': '166388', 'expappar': '92', 'expcontrib': '90', 'expeduc': '95', 'expent': '88', 'expfoodbev': '89', 'expgift': '88', 'exphealth': '86', 'exphh': '87', 'exphhfurn': '91', 'exphhops': '92', 'expinsur': '94', 'expmisc': '90', 'exppers': '90', 'expread': '88', 'exptob': '87', 'exptotal': '38376', 'exptransport': '92', 'exputil': '82', 'famavesz': '4.00', 'four_bed_county': '1599', 'four_bedindex': '99', 'fouryr': 'DEVRY UNIVERSITY-BUCKHEAD', 'fouryrdist': '1', 'geo_code': '13121', 'geo_key': 'CO13121', 'geo_type': 'County', 'hhd': '425170', 'hhd_00': '348625', 'hhd_90': '257181', 'hhdavesz': '2.00', 'hhdavesz_00': '2.00', 'hhdch': '116512', 'hhdfam': '239295', 'hhdhighpy_5': '489327', 'hhdlowpy_5': '422151', 'hhdnch': '122783', 'hhdnfm': '33263', 'hhdpy_10': '503464', 'hhdpy_5': '462802', 'hhdsingle': '152612', 'hhnwcy1_5': '0', 'hhnwcy10_25': '0', 'hhnwcy100_250': '0', 'hhnwcy25_50': '0', 'hhnwcy250_500': '0', 'hhnwcy5_10': '0', 'hhnwcy50_100': '0', 'hhnwcygt_500': '0', 'hhnwcylt_0': '0', 'hhnwmeancy': '0', 'hhnwmedcy': '0', 'hhpop_00': '784496', 'hhpoppy_10': '1081690', 'hhpoppy_5': '1174420', 'hhppy_10': '2.00', 'hhppy_5': '2.00', 'hincy00_10': '32510', 'hincy10_15': '20457', 'hincy100_125': '35085', 'hincy125_150': '23121', 'hincy15_20': '18703', 'hincy150_200': '35962', 'hincy20_25': '17702', 'hincy200_250': '22355', 'hincy25_30': '18401', 'hincy250_500': '9570', 'hincy30_35': '18093', 'hincy35_40': '17634', 'hincy40_45': '17118', 'hincy45_50': '15293', 'hincy50_60': '29998', 'hincy60_75': '38518', 'hincy75_100': '46678', 'hincygt_500': '7972', 'houmedage': '1978', 'idxexptotal': '89', 'incavehhpy_5': '126743', 'inccyavehh': '98315', 'inccymedd': '62330', 'inccymeddh': '53605', 'inccypcap': '41112', 'incdiffbasecy': '31.00', 'incdiffcurrcy': '28.00', 'incmedpy_5': '81695', 'jc': 'BROWN CLG COURT REPORTING-MED TRANSCRIPT', 'jcdist': '2', 'langasian': '15246', 'langasian_00': '6280', 'langeng': '354624', 'langeng_00': '274508', 'langeuro': '23087', 'langeuro_00': '15127', 'langother': '5471', 'langother_00': '2812', 'langspan': '26742', 'langspan_00': '22539', 'langtotal': '425170', 'latitude': '34', 'lbf_00': '431554', 'lbfaf_00': '679', 'lbfciv_00': '430875', 'lbfemp_00': '392628', 'lbfwf_00': '637019', 'lead': '19', 'longitude': '-84', 'lorturn': '18.00', 'mardivor': '89094', 'market_id': '', 'market_name': '', 'marmarr': '312239', 'marnever': '356198', 'marsep': '16716', 'martotalpop': '814429', 'marwidow': '40182', 'medianage': '36.00', 'medianagepy_10': '38.00', 'medianagepy_5': '38.00', 'medsaleprice': '249200', 'name': '13121', 'nine_to_12_1990': '59198', 'nine_to_12_2000': '57261', 'no2': '126', 'ob_id': '1611870', 'occarts': '20193', 'occbfin': '38970', 'occbgmt': '31110', 'occbluco': '35', 'occclero': '175202', 'occcomp': '20417', 'occcons': '20460', 'occcsrv': '22070', 'occeduc': '28465', 'occengr': '12714', 'occfood': '55496', 'occhcso': '62692', 'occhcsp': '25081', 'occinstal': '28404', 'occlegal': '17805', 'occmilt': '3539', 'occpcar': '22801', 'occprim': '780', 'occprod': '31965', 'occprot': '16585', 'occsalpr': '88868', 'occscns': '7759', 'occtotpop': '825144', 'occtran': '38961', 'occuncl': '3205', 'occwhtco': '65', 'occyexec': '51602', 'one_bed_county': '858', 'one_bedindex': '99', 'ozone': '111', 'pm10': '94', 'pop_00': '816008', 'pop_10': '920581', 'pop_90': '648965', 'popcorr_00': '1662', 'popcy': '1028846', 'popcygqcoll': '17746', 'popcygqmil': '56', 'popdiffbasecy': '26.00', 'popdiffcurrcy': '12.00', 'popdnsty': '1954.0', 'popfemale': '525561', 'popfemale_00': '415007', 'popfemalepy_10': '615365', 'popfemalepy_5': '567868', 'popgq_00': '31512', 'popgq_90': '21804', 'popgqpy_10': '31255', 'popgqpy_5': '31255', 'pophighpy_5': '1172438', 'popinst_00': '9644', 'poplowpy_5': '1022312', 'popmale': '503285', 'popmale_00': '401001', 'popmalepy_10': '590310', 'popmalepy_5': '545077', 'popnoninst_00': '21868', 'popnurshm_00': '7696', 'popotherinst_00': '286', 'popothernoninst_00': '8104', 'poppy_10': '1205675', 'poppy_5': '1112945', 'precipann': '52.00', 'raceamerind': '4266', 'raceamerind_00': '1958', 'raceasian': '61139', 'raceasian_00': '23771', 'raceasian_90': '8127', 'raceasianpy_5': '68546', 'raceblack': '446128', 'raceblack_00': '361944', 'raceblack_90': '323979', 'raceblackpy_5': '470432', 'racehawai': '532', 'racehawai_00': '346', 'racehisp': '80019', 'racehisp_90': '13421', 'racehisppy_5': '86926', 'racemulti': '29696', 'racemulti_00': '13334', 'racenonhisp': '948827', 'raceother': '20588', 'raceother_00': '21036', 'raceother_90': '6668', 'raceotherpy_5': '25056', 'racetotalpop': '1028846', 'racewhite': '466497', 'racewhite_00': '393619', 'racewhite_90': '310191', 'racewhitepy_5': '461985', 'rskcyhanx': '223', 'rskcyhunx': '81', 'rskcyquak': '47', 'rskcyrisk': '120', 'rskcytonx': '162', 'rskcywinx': '87', 'salavecy': '53281', 'salecount': '15040', 'salmedcy': '43537', 'seasonpop': '655', 'state': '13', 'statename': 'Georgia', 'studio_county': '818', 'studioindex': '99', 'team': 'ATLANTA UNITED FC', 'teamdist': '5', 'three_bed_county': '1299', 'three_bedindex': '99', 'tmpavejan': '41.00', 'tmpavejul': '79.00', 'tmpmaxjan': '51.00', 'tmpmaxjul': '88.00', 'tmpminjan': '31.00', 'tmpminjul': '69.00', 'trw0_5': '6273', 'trw10_15': '41950', 'trw15_20': '56860', 'trw20_30': '81292', 'trw30_45': '87575', 'trw45_60': '35001', 'trw5_10': '25192', 'trwave': '28', 'trwbyc': '572', 'trwcpool': '44718', 'trwdrive': '276395', 'trwgt_60': '35795', 'trwhome': '15508', 'trwmoto': '246', 'trwother': '3306', 'trwpublic': '36008', 'trwself': '8693', 'two_bed_county': '990', 'two_bedindex': '99', 'vph1': '42', 'vphgt1': '46', 'vphnone': '12'}], 'name': 'Full', 'notice': '', 'resource': 'Area', 'service': 'Community', 'version': '2.0'}, 'xml_record': '1'}, 'status': {'code': '0', 'long_description': 'Your request was successfully processed.', 'short_description': 'Success'}, 'xmlns': 'https://api.gateway.attomdata.com/communityapi/v2.0.0'}}\n"
     ]
    }
   ],
   "source": [
    "import http.client \n",
    "\n",
    "conn = http.client.HTTPSConnection(\"api.gateway.attomdata.com\") \n",
    "\n",
    "headers = { \n",
    "    'accept': \"application/json\", \n",
    "    'apikey': \"0408aa05064b33cad67176d74f68c56a\", \n",
    "} \n",
    "\n",
    "conn.request(\"GET\", \"/communityapi/v2.0.0/area/full?AreaId=CO13121\", headers=headers) \n",
    "res = conn.getresponse() \n",
    "data = res.read() \n",
    "level = json.loads(data)\n",
    "print(level)"
   ]
  },
  {
   "cell_type": "code",
   "execution_count": 66,
   "metadata": {},
   "outputs": [
    {
     "ename": "KeyError",
     "evalue": "'result'",
     "output_type": "error",
     "traceback": [
      "\u001b[0;31m---------------------------------------------------------------------------\u001b[0m",
      "\u001b[0;31mKeyError\u001b[0m                                  Traceback (most recent call last)",
      "\u001b[0;32m<ipython-input-66-581a3bd7fa1c>\u001b[0m in \u001b[0;36m<module>\u001b[0;34m\u001b[0m\n\u001b[1;32m     26\u001b[0m     \u001b[0mlevel\u001b[0m \u001b[0;34m=\u001b[0m \u001b[0mjson\u001b[0m\u001b[0;34m.\u001b[0m\u001b[0mloads\u001b[0m\u001b[0;34m(\u001b[0m\u001b[0mdata\u001b[0m\u001b[0;34m)\u001b[0m\u001b[0;34m\u001b[0m\u001b[0;34m\u001b[0m\u001b[0m\n\u001b[1;32m     27\u001b[0m \u001b[0;34m\u001b[0m\u001b[0m\n\u001b[0;32m---> 28\u001b[0;31m     \u001b[0meducation_number\u001b[0m\u001b[0;34m.\u001b[0m\u001b[0mappend\u001b[0m\u001b[0;34m(\u001b[0m\u001b[0mlevel\u001b[0m\u001b[0;34m[\u001b[0m\u001b[0;34m\"response\"\u001b[0m\u001b[0;34m]\u001b[0m\u001b[0;34m[\u001b[0m\u001b[0;34m\"result\"\u001b[0m\u001b[0;34m]\u001b[0m\u001b[0;34m[\u001b[0m\u001b[0;34m\"package\"\u001b[0m\u001b[0;34m]\u001b[0m\u001b[0;34m[\u001b[0m\u001b[0;34m\"item\"\u001b[0m\u001b[0;34m]\u001b[0m\u001b[0;34m[\u001b[0m\u001b[0;36m0\u001b[0m\u001b[0;34m]\u001b[0m\u001b[0;34m[\u001b[0m\u001b[0;34m\"eduscoll\"\u001b[0m\u001b[0;34m]\u001b[0m\u001b[0;34m)\u001b[0m\u001b[0;34m\u001b[0m\u001b[0;34m\u001b[0m\u001b[0m\n\u001b[0m\u001b[1;32m     29\u001b[0m     \u001b[0mfamily_size\u001b[0m\u001b[0;34m.\u001b[0m\u001b[0mappend\u001b[0m\u001b[0;34m(\u001b[0m\u001b[0mlevel\u001b[0m\u001b[0;34m[\u001b[0m\u001b[0;34m\"response\"\u001b[0m\u001b[0;34m]\u001b[0m\u001b[0;34m[\u001b[0m\u001b[0;34m\"result\"\u001b[0m\u001b[0;34m]\u001b[0m\u001b[0;34m[\u001b[0m\u001b[0;34m\"package\"\u001b[0m\u001b[0;34m]\u001b[0m\u001b[0;34m[\u001b[0m\u001b[0;34m\"item\"\u001b[0m\u001b[0;34m]\u001b[0m\u001b[0;34m[\u001b[0m\u001b[0;36m0\u001b[0m\u001b[0;34m]\u001b[0m\u001b[0;34m[\u001b[0m\u001b[0;34m\"famavesz\"\u001b[0m\u001b[0;34m]\u001b[0m\u001b[0;34m)\u001b[0m\u001b[0;34m\u001b[0m\u001b[0;34m\u001b[0m\u001b[0m\n\u001b[1;32m     30\u001b[0m     \u001b[0mnum_households\u001b[0m\u001b[0;34m.\u001b[0m\u001b[0mappend\u001b[0m\u001b[0;34m(\u001b[0m\u001b[0mlevel\u001b[0m\u001b[0;34m[\u001b[0m\u001b[0;34m\"response\"\u001b[0m\u001b[0;34m]\u001b[0m\u001b[0;34m[\u001b[0m\u001b[0;34m\"result\"\u001b[0m\u001b[0;34m]\u001b[0m\u001b[0;34m[\u001b[0m\u001b[0;34m\"package\"\u001b[0m\u001b[0;34m]\u001b[0m\u001b[0;34m[\u001b[0m\u001b[0;34m\"item\"\u001b[0m\u001b[0;34m]\u001b[0m\u001b[0;34m[\u001b[0m\u001b[0;36m0\u001b[0m\u001b[0;34m]\u001b[0m\u001b[0;34m[\u001b[0m\u001b[0;34m\"hhdfam\"\u001b[0m\u001b[0;34m]\u001b[0m\u001b[0;34m)\u001b[0m\u001b[0;34m\u001b[0m\u001b[0;34m\u001b[0m\u001b[0m\n",
      "\u001b[0;31mKeyError\u001b[0m: 'result'"
     ]
    }
   ],
   "source": [
    "#Define the list for the desired zip codes\n",
    "ZipCodes = [\"30326\", \"30363\", \"30032\", \"30304\", \"30328\", \"30329\"]\n",
    "\n",
    "#initialize variables to store data for the desired attributes\n",
    "airx_score = []\n",
    "avg_exptotal = []\n",
    "family_size = []\n",
    "num_households = []\n",
    "crime_score = []\n",
    "education_number = []\n",
    "\n",
    "#for loop to hit each zip code and pull data\n",
    "for code in ZipCodes:\n",
    "    \n",
    "    conn = http.client.HTTPSConnection(\"api.gateway.attomdata.com\")\n",
    "     \n",
    "    headers = { \n",
    "    'accept': \"application/json\", \n",
    "    'apikey': \"0408aa05064b33cad67176d74f68c56a\", \n",
    "    }\n",
    "    \n",
    "    conn.request(\"GET\", f\"/communityapi/v2.0.0/area/full?AreaID=ZI{code}\", headers=headers) \n",
    "    \n",
    "    res = conn.getresponse()\n",
    "    data = res.read()\n",
    "    level = json.loads(data)\n",
    "    \n",
    "    education_number.append(level[\"response\"][\"result\"][\"package\"][\"item\"][0][\"eduscoll\"])\n",
    "    family_size.append(level[\"response\"][\"result\"][\"package\"][\"item\"][0][\"famavesz\"])\n",
    "    num_households.append(level[\"response\"][\"result\"][\"package\"][\"item\"][0][\"hhdfam\"])\n",
    "    crime_score.append(level[\"response\"][\"result\"][\"package\"][\"item\"][0][\"cocrmcytotc\"])\n",
    "    airx_score.append(level[\"response\"][\"result\"][\"package\"][\"item\"][0][\"airx\"])\n",
    "    avg_exptotal.append(level[\"response\"][\"result\"][\"package\"][\"item\"][0][\"exptotal\"])\n",
    "\n",
    "print(education_number)\n",
    "print(family_size)\n",
    "print(num_households)\n",
    "print(crime_score)\n",
    "print(airx_score)\n",
    "print(avg_exptotal)"
   ]
  },
  {
   "cell_type": "code",
   "execution_count": 58,
   "metadata": {},
   "outputs": [
    {
     "data": {
      "text/html": [
       "<div>\n",
       "<style scoped>\n",
       "    .dataframe tbody tr th:only-of-type {\n",
       "        vertical-align: middle;\n",
       "    }\n",
       "\n",
       "    .dataframe tbody tr th {\n",
       "        vertical-align: top;\n",
       "    }\n",
       "\n",
       "    .dataframe thead th {\n",
       "        text-align: right;\n",
       "    }\n",
       "</style>\n",
       "<table border=\"1\" class=\"dataframe\">\n",
       "  <thead>\n",
       "    <tr style=\"text-align: right;\">\n",
       "      <th></th>\n",
       "      <th>Zip Codes</th>\n",
       "      <th>Air Quality Score</th>\n",
       "      <th>Average Total Expenditure</th>\n",
       "      <th>Family Size</th>\n",
       "      <th>Num. Family Households</th>\n",
       "      <th>Crime Score</th>\n",
       "    </tr>\n",
       "  </thead>\n",
       "  <tbody>\n",
       "    <tr>\n",
       "      <th>0</th>\n",
       "      <td>30307</td>\n",
       "      <td>94</td>\n",
       "      <td>35705</td>\n",
       "      <td>3.00</td>\n",
       "      <td>4264</td>\n",
       "      <td>189</td>\n",
       "    </tr>\n",
       "    <tr>\n",
       "      <th>1</th>\n",
       "      <td>30316</td>\n",
       "      <td>94</td>\n",
       "      <td>36491</td>\n",
       "      <td>3.00</td>\n",
       "      <td>7430</td>\n",
       "      <td>189</td>\n",
       "    </tr>\n",
       "    <tr>\n",
       "      <th>2</th>\n",
       "      <td>30317</td>\n",
       "      <td>94</td>\n",
       "      <td>36912</td>\n",
       "      <td>4.00</td>\n",
       "      <td>3079</td>\n",
       "      <td>189</td>\n",
       "    </tr>\n",
       "    <tr>\n",
       "      <th>3</th>\n",
       "      <td>30313</td>\n",
       "      <td>94</td>\n",
       "      <td>27872</td>\n",
       "      <td>3.00</td>\n",
       "      <td>627</td>\n",
       "      <td>253</td>\n",
       "    </tr>\n",
       "    <tr>\n",
       "      <th>4</th>\n",
       "      <td>30342</td>\n",
       "      <td>92</td>\n",
       "      <td>41580</td>\n",
       "      <td>4.00</td>\n",
       "      <td>7412</td>\n",
       "      <td>253</td>\n",
       "    </tr>\n",
       "    <tr>\n",
       "      <th>5</th>\n",
       "      <td>30354</td>\n",
       "      <td>93</td>\n",
       "      <td>38733</td>\n",
       "      <td>4.00</td>\n",
       "      <td>4030</td>\n",
       "      <td>253</td>\n",
       "    </tr>\n",
       "    <tr>\n",
       "      <th>6</th>\n",
       "      <td>30303</td>\n",
       "      <td>94</td>\n",
       "      <td>21633</td>\n",
       "      <td>3.00</td>\n",
       "      <td>347</td>\n",
       "      <td>253</td>\n",
       "    </tr>\n",
       "    <tr>\n",
       "      <th>7</th>\n",
       "      <td>30319</td>\n",
       "      <td>93</td>\n",
       "      <td>36316</td>\n",
       "      <td>3.00</td>\n",
       "      <td>10475</td>\n",
       "      <td>189</td>\n",
       "    </tr>\n",
       "  </tbody>\n",
       "</table>\n",
       "</div>"
      ],
      "text/plain": [
       "  Zip Codes Air Quality Score Average Total Expenditure Family Size  \\\n",
       "0     30307                94                     35705        3.00   \n",
       "1     30316                94                     36491        3.00   \n",
       "2     30317                94                     36912        4.00   \n",
       "3     30313                94                     27872        3.00   \n",
       "4     30342                92                     41580        4.00   \n",
       "5     30354                93                     38733        4.00   \n",
       "6     30303                94                     21633        3.00   \n",
       "7     30319                93                     36316        3.00   \n",
       "\n",
       "  Num. Family Households Crime Score  \n",
       "0                   4264         189  \n",
       "1                   7430         189  \n",
       "2                   3079         189  \n",
       "3                    627         253  \n",
       "4                   7412         253  \n",
       "5                   4030         253  \n",
       "6                    347         253  \n",
       "7                  10475         189  "
      ]
     },
     "execution_count": 58,
     "metadata": {},
     "output_type": "execute_result"
    }
   ],
   "source": [
    "df = pd.DataFrame({\"Zip Codes\": ZipCodes, \"Air Quality Score\": airx_score, \"Average Total Expenditure\": avg_exptotal, \"Family Size\": family_size,\n",
    "                  \"Num. Family Households\": num_households, \"Crime Score\":\n",
    "                  crime_score})\n",
    "df"
   ]
  },
  {
   "cell_type": "code",
   "execution_count": null,
   "metadata": {},
   "outputs": [],
   "source": [
    "ZipCodes = [\"30319\", \"30326\", \"30363\", \"30032\", \"30304\", \"30328\", \"30329\", \"30334\", \"30336\", \"30337\"]"
   ]
  },
  {
   "cell_type": "code",
   "execution_count": 106,
   "metadata": {},
   "outputs": [],
   "source": [
    "#I was not able to pul all 108 cases we wanted because the ATTOM site blocked me after frequently applying and using the API Key (over 100% utilization)\n",
    "#In fact, I could only pull 7 cases at a time. I did this for 3 times (Total n=21) and copied data into an excel, which is then exported as a csv file\n",
    "Project1_dataset = pd.read_csv('Project1_Dataset.csv')"
   ]
  },
  {
   "cell_type": "code",
   "execution_count": 113,
   "metadata": {},
   "outputs": [
    {
     "data": {
      "text/html": [
       "<div>\n",
       "<style scoped>\n",
       "    .dataframe tbody tr th:only-of-type {\n",
       "        vertical-align: middle;\n",
       "    }\n",
       "\n",
       "    .dataframe tbody tr th {\n",
       "        vertical-align: top;\n",
       "    }\n",
       "\n",
       "    .dataframe thead th {\n",
       "        text-align: right;\n",
       "    }\n",
       "</style>\n",
       "<table border=\"1\" class=\"dataframe\">\n",
       "  <thead>\n",
       "    <tr style=\"text-align: right;\">\n",
       "      <th></th>\n",
       "      <th>Unnamed: 0</th>\n",
       "      <th>Zip Codes</th>\n",
       "      <th>Air Quality Score</th>\n",
       "      <th>Average Total Expenditure</th>\n",
       "      <th>Family Size</th>\n",
       "      <th>Num. Family Households</th>\n",
       "      <th>Crime Score</th>\n",
       "    </tr>\n",
       "  </thead>\n",
       "  <tbody>\n",
       "    <tr>\n",
       "      <th>0</th>\n",
       "      <td>1</td>\n",
       "      <td>30318</td>\n",
       "      <td>93</td>\n",
       "      <td>34121</td>\n",
       "      <td>3</td>\n",
       "      <td>10750</td>\n",
       "      <td>253</td>\n",
       "    </tr>\n",
       "    <tr>\n",
       "      <th>1</th>\n",
       "      <td>2</td>\n",
       "      <td>30331</td>\n",
       "      <td>93</td>\n",
       "      <td>37722</td>\n",
       "      <td>4</td>\n",
       "      <td>15779</td>\n",
       "      <td>253</td>\n",
       "    </tr>\n",
       "    <tr>\n",
       "      <th>2</th>\n",
       "      <td>3</td>\n",
       "      <td>30315</td>\n",
       "      <td>94</td>\n",
       "      <td>36748</td>\n",
       "      <td>4</td>\n",
       "      <td>7092</td>\n",
       "      <td>253</td>\n",
       "    </tr>\n",
       "    <tr>\n",
       "      <th>3</th>\n",
       "      <td>4</td>\n",
       "      <td>30311</td>\n",
       "      <td>93</td>\n",
       "      <td>35189</td>\n",
       "      <td>4</td>\n",
       "      <td>8105</td>\n",
       "      <td>253</td>\n",
       "    </tr>\n",
       "    <tr>\n",
       "      <th>4</th>\n",
       "      <td>5</td>\n",
       "      <td>30310</td>\n",
       "      <td>93</td>\n",
       "      <td>35389</td>\n",
       "      <td>4</td>\n",
       "      <td>6125</td>\n",
       "      <td>253</td>\n",
       "    </tr>\n",
       "  </tbody>\n",
       "</table>\n",
       "</div>"
      ],
      "text/plain": [
       "   Unnamed: 0  Zip Codes  Air Quality Score  Average Total Expenditure  \\\n",
       "0           1      30318                 93                      34121   \n",
       "1           2      30331                 93                      37722   \n",
       "2           3      30315                 94                      36748   \n",
       "3           4      30311                 93                      35189   \n",
       "4           5      30310                 93                      35389   \n",
       "\n",
       "   Family Size  Num. Family Households  Crime Score  \n",
       "0            3                   10750          253  \n",
       "1            4                   15779          253  \n",
       "2            4                    7092          253  \n",
       "3            4                    8105          253  \n",
       "4            4                    6125          253  "
      ]
     },
     "execution_count": 113,
     "metadata": {},
     "output_type": "execute_result"
    }
   ],
   "source": [
    "Project1_dataset.head()"
   ]
  },
  {
   "cell_type": "code",
   "execution_count": 138,
   "metadata": {},
   "outputs": [
    {
     "data": {
      "image/png": "[encoded data removed]",
      "text/plain": [
       "<Figure size 432x288 with 1 Axes>"
      ]
     },
     "metadata": {
      "needs_background": "light"
     },
     "output_type": "display_data"
    }
   ],
   "source": [
    "df = Project1_dataset\n",
    "sns.regplot(x=df[\"Num. Family Households\"], y=df[\"Average Total Expenditure\"], marker=\"+\")\n",
    "plt.show()\n",
    "#There is a strong positive linear that regions with greater number of family households have higher average total expenditure"
   ]
  },
  {
   "cell_type": "code",
   "execution_count": 130,
   "metadata": {},
   "outputs": [
    {
     "data": {
      "text/plain": [
       "Text(0, 0.5, 'Count of Zip Codes')"
      ]
     },
     "execution_count": 130,
     "metadata": {},
     "output_type": "execute_result"
    },
    {
     "data": {
      "image/png": "[encoded data removed]",
      "text/plain": [
       "<Figure size 432x288 with 1 Axes>"
      ]
     },
     "metadata": {
      "needs_background": "light"
     },
     "output_type": "display_data"
    }
   ],
   "source": [
    "users = [0, 2, 4, 4, 9, 2]\n",
    "x_axis = np.arange(len(users))\n",
    "plt.bar(x_axis, users, color='green', align=\"center\") \n",
    "tick_locations = [value for value in x_axis]\n",
    "plt.xticks(tick_locations, [\"< 20,000\", \"20,000-24,999\", \"25,000-29,999\", \"30,000-34,999\", \"35,000-39,999\", \"> 40,000\"], rotation=30)\n",
    "plt.title(\"Distribution of Average Expenditure of Most Populated Regions in Atlanta\")\n",
    "plt.xlabel(\"Average Total Expenditure ($)\")\n",
    "plt.ylabel(\"Count of Zip Codes\")"
   ]
  },
  {
   "cell_type": "code",
   "execution_count": 129,
   "metadata": {},
   "outputs": [
    {
     "data": {
      "text/plain": [
       "([<matplotlib.patches.Wedge at 0x1a21397e80>,\n",
       "  <matplotlib.patches.Wedge at 0x1a213a1a20>,\n",
       "  <matplotlib.patches.Wedge at 0x1a211dea90>,\n",
       "  <matplotlib.patches.Wedge at 0x1a211de278>,\n",
       "  <matplotlib.patches.Wedge at 0x1a21273b70>],\n",
       " [Text(-1.0136238354386793, 0.4272782702532171, '0-2,499'),\n",
       "  Text(-0.6421180016297052, -0.8931318334843261, '2,500-4,999'),\n",
       "  Text(1.0945338643771378, -0.1095245165780227, '5,000-7,499'),\n",
       "  Text(0.3503351676748798, 1.042720130375459, '7,500-9,999'),\n",
       "  Text(-0.4524159810784348, 1.0026563619031386, '> 10,000')],\n",
       " [Text(-0.5528857284210977, 0.2330608746835729, '9.5%'),\n",
       "  Text(-0.35024618270711194, -0.48716281826417784, '33.3%'),\n",
       "  Text(0.5970184714784387, -0.05974064540619419, '33.3%'),\n",
       "  Text(0.19109190964084352, 0.5687564347502503, '9.5%'),\n",
       "  Text(-0.24677235331550984, 0.5469034701289845, '14.3%')])"
      ]
     },
     "execution_count": 129,
     "metadata": {},
     "output_type": "execute_result"
    },
    {
     "data": {
      "image/png": "[encoded data removed]",
      "text/plain": [
       "<Figure size 432x288 with 1 Axes>"
      ]
     },
     "metadata": {},
     "output_type": "display_data"
    }
   ],
   "source": [
    "labels = [\"0-2,499\", \"2,500-4,999\", \"5,000-7,499\", \"7,500-9,999\", \"> 10,000\"]\n",
    "sizes = [2, 7, 7, 2, 3]\n",
    "colors = [\"red\", \"yellow\", \"green\", \"grey\", \"pink\"]\n",
    "plt.title(\"Distribution of Household Numbers of Most Populated Regions in Atlanta\")\n",
    "plt.pie(sizes, labels=labels, colors=colors,\n",
    "        autopct=\"%1.1f%%\", shadow=True, startangle=140)"
   ]
  },
  {
   "cell_type": "code",
   "execution_count": null,
   "metadata": {},
   "outputs": [],
   "source": []
  }
 ],
 "metadata": {
  "kernelspec": {
   "display_name": "Python 3",
   "language": "python",
   "name": "python3"
  },
  "language_info": {
   "codemirror_mode": {
    "name": "ipython",
    "version": 3
   },
   "file_extension": ".py",
   "mimetype": "text/x-python",
   "name": "python",
   "nbconvert_exporter": "python",
   "pygments_lexer": "ipython3",
   "version": "3.7.1"
  }
 },
 "nbformat": 4,
 "nbformat_minor": 2
}
